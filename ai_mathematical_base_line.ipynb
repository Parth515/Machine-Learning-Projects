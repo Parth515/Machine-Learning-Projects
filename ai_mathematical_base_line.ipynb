{
  "metadata": {
    "kaggle": {
      "accelerator": "nvidiaTeslaT4",
      "dataSources": [
        {
          "sourceId": 73231,
          "databundleVersionId": 8085542,
          "sourceType": "competition"
        },
        {
          "sourceId": 7369493,
          "sourceType": "datasetVersion",
          "datasetId": 4281572
        },
        {
          "sourceId": 5112,
          "sourceType": "modelInstanceVersion",
          "modelInstanceId": 3900
        },
        {
          "sourceId": 5994,
          "sourceType": "modelInstanceVersion",
          "modelInstanceId": 4761
        },
        {
          "sourceId": 11382,
          "sourceType": "modelInstanceVersion",
          "modelInstanceId": 8318
        },
        {
          "sourceId": 11394,
          "sourceType": "modelInstanceVersion",
          "modelInstanceId": 8332
        }
      ],
      "dockerImageVersionId": 30674,
      "isInternetEnabled": false,
      "language": "python",
      "sourceType": "notebook",
      "isGpuEnabled": true
    },
    "kernelspec": {
      "display_name": "Python 3",
      "language": "python",
      "name": "python3"
    },
    "language_info": {
      "codemirror_mode": {
        "name": "ipython",
        "version": 3
      },
      "file_extension": ".py",
      "mimetype": "text/x-python",
      "name": "python",
      "nbconvert_exporter": "python",
      "pygments_lexer": "ipython3",
      "version": "3.10.13"
    },
    "papermill": {
      "default_parameters": {},
      "duration": 2242.286839,
      "end_time": "2024-04-01T19:21:26.89034",
      "environment_variables": {},
      "exception": null,
      "input_path": "__notebook__.ipynb",
      "output_path": "__notebook__.ipynb",
      "parameters": {},
      "start_time": "2024-04-01T18:44:04.603501",
      "version": "2.5.0"
    },
    "widgets": {
      "application/vnd.jupyter.widget-state+json": {}
    },
    "colab": {
      "provenance": []
    }
  },
  "nbformat_minor": 0,
  "nbformat": 4,
  "cells": [
    {
      "cell_type": "code",
      "source": [
        "!pip install -U /bitsandbytes-0-42-0-py3-none-any-whl/bitsandbytes-0.42.0-py3-none-any.whl -qq"
      ],
      "metadata": {
        "papermill": {
          "duration": 38.363044,
          "end_time": "2024-04-01T18:44:46.110053",
          "exception": false,
          "start_time": "2024-04-01T18:44:07.747009",
          "status": "completed"
        },
        "tags": [],
        "execution": {
          "iopub.status.busy": "2024-05-19T06:36:29.649492Z",
          "iopub.execute_input": "2024-05-19T06:36:29.650086Z",
          "iopub.status.idle": "2024-05-19T06:37:06.021831Z",
          "shell.execute_reply.started": "2024-05-19T06:36:29.650055Z",
          "shell.execute_reply": "2024-05-19T06:37:06.020574Z"
        },
        "trusted": true,
        "id": "b20osAv_xfnq"
      },
      "execution_count": null,
      "outputs": []
    },
    {
      "cell_type": "code",
      "source": [
        "import torch\n",
        "from transformers import AutoModelForCausalLM, AutoTokenizer, BitsAndBytesConfig, AutoConfig\n",
        "\n",
        "MODEL_PATH = \"/mixtral/pytorch/8x7b-instruct-v0.1-hf/1\"\n",
        "\n",
        "quantization_config = BitsAndBytesConfig(\n",
        "    load_in_4bit = True,\n",
        "    bnb_4bit_quant_type=\"nf4\",\n",
        "    bnb_4bit_compute_dtype=torch.bfloat16,\n",
        "    bnb_4bit_use_double_quant=True,\n",
        ")\n",
        "\n",
        "# To prevent GPU memory overflow in Mixtral8x7b\n",
        "config = AutoConfig.from_pretrained(MODEL_PATH)\n",
        "config.gradient_checkpointing = True\n",
        "\n",
        "\n",
        "tokenizer = AutoTokenizer.from_pretrained(MODEL_PATH)\n",
        "\n",
        "model = AutoModelForCausalLM.from_pretrained(\n",
        "    MODEL_PATH,\n",
        "    device_map = \"auto\",\n",
        "    trust_remote_code = True,\n",
        "    quantization_config=quantization_config,\n",
        "    config=config\n",
        ")"
      ],
      "metadata": {
        "papermill": {
          "duration": 719.720667,
          "end_time": "2024-04-01T18:56:45.837727",
          "exception": false,
          "start_time": "2024-04-01T18:44:46.11706",
          "status": "completed"
        },
        "tags": [],
        "execution": {
          "iopub.status.busy": "2024-05-19T06:37:06.024112Z",
          "iopub.execute_input": "2024-05-19T06:37:06.024514Z",
          "iopub.status.idle": "2024-05-19T06:48:51.329944Z",
          "shell.execute_reply.started": "2024-05-19T06:37:06.024479Z",
          "shell.execute_reply": "2024-05-19T06:48:51.328912Z"
        },
        "trusted": true,
        "colab": {
          "referenced_widgets": [
            "464ff5b4da1c44989f9b64952b2d65dc"
          ]
        },
        "id": "ggQ649Dqxfnq",
        "outputId": "d0a872d8-36ea-43a4-867e-b2998b11255a"
      },
      "execution_count": null,
      "outputs": [
        {
          "output_type": "display_data",
          "data": {
            "text/plain": "Loading checkpoint shards:   0%|          | 0/19 [00:00<?, ?it/s]",
            "application/vnd.jupyter.widget-view+json": {
              "version_major": 2,
              "version_minor": 0,
              "model_id": "464ff5b4da1c44989f9b64952b2d65dc"
            }
          },
          "metadata": {}
        }
      ]
    },
    {
      "cell_type": "code",
      "source": [
        "import pandas as pd\n",
        "from tqdm import tqdm\n",
        "PRIVATE = True\n",
        "\n",
        "df = pd.read_csv('/test.csv')\n",
        "df.head()"
      ],
      "metadata": {
        "papermill": {
          "duration": 1.18546,
          "end_time": "2024-04-01T18:56:47.031171",
          "exception": false,
          "start_time": "2024-04-01T18:56:45.845711",
          "status": "completed"
        },
        "tags": [],
        "execution": {
          "iopub.status.busy": "2024-05-19T06:48:51.335481Z",
          "iopub.execute_input": "2024-05-19T06:48:51.335747Z",
          "iopub.status.idle": "2024-05-19T06:48:52.398855Z",
          "shell.execute_reply.started": "2024-05-19T06:48:51.335723Z",
          "shell.execute_reply": "2024-05-19T06:48:52.397850Z"
        },
        "trusted": true,
        "id": "mTzMTt7Yxfnr",
        "outputId": "996a742c-0be2-4b7b-de8e-dfbb115192f6"
      },
      "execution_count": null,
      "outputs": [
        {
          "execution_count": 3,
          "output_type": "execute_result",
          "data": {
            "text/plain": "   row_id      id                 problem\n0       0  000aaa          What is $1-1$?\n1       1  111bbb    What is $0\\times10$?\n2       2  222ccc  Solve $4+x=4$ for $x$.",
            "text/html": "<div>\n<style scoped>\n    .dataframe tbody tr th:only-of-type {\n        vertical-align: middle;\n    }\n\n    .dataframe tbody tr th {\n        vertical-align: top;\n    }\n\n    .dataframe thead th {\n        text-align: right;\n    }\n</style>\n<table border=\"1\" class=\"dataframe\">\n  <thead>\n    <tr style=\"text-align: right;\">\n      <th></th>\n      <th>row_id</th>\n      <th>id</th>\n      <th>problem</th>\n    </tr>\n  </thead>\n  <tbody>\n    <tr>\n      <th>0</th>\n      <td>0</td>\n      <td>000aaa</td>\n      <td>What is $1-1$?</td>\n    </tr>\n    <tr>\n      <th>1</th>\n      <td>1</td>\n      <td>111bbb</td>\n      <td>What is $0\\times10$?</td>\n    </tr>\n    <tr>\n      <th>2</th>\n      <td>2</td>\n      <td>222ccc</td>\n      <td>Solve $4+x=4$ for $x$.</td>\n    </tr>\n  </tbody>\n</table>\n</div>"
          },
          "metadata": {}
        }
      ]
    },
    {
      "cell_type": "code",
      "source": [
        "if len(df) < 5:\n",
        "    df = pd.read_csv('train.csv')\n",
        "    PRIVATE = False\n",
        "df.head()"
      ],
      "metadata": {
        "papermill": {
          "duration": 0.026021,
          "end_time": "2024-04-01T18:56:47.064648",
          "exception": false,
          "start_time": "2024-04-01T18:56:47.038627",
          "status": "completed"
        },
        "tags": [],
        "execution": {
          "iopub.status.busy": "2024-05-19T06:48:52.400027Z",
          "iopub.execute_input": "2024-05-19T06:48:52.400364Z",
          "iopub.status.idle": "2024-05-19T06:48:52.414347Z",
          "shell.execute_reply.started": "2024-05-19T06:48:52.400337Z",
          "shell.execute_reply": "2024-05-19T06:48:52.413482Z"
        },
        "trusted": true,
        "id": "jhwP1DdRxfnr",
        "outputId": "f6d27842-2cfb-439c-ca7b-30b029bd088c"
      },
      "execution_count": null,
      "outputs": [
        {
          "execution_count": 4,
          "output_type": "execute_result",
          "data": {
            "text/plain": "       id                                            problem  answer\n0  229ee8  Let $k, l > 0$ be parameters. The parabola $y ...      52\n1  246d26  Each of the three-digits numbers $111$ to $999...     250\n2  2fc4ad  Let the `sparkle' operation on positive intege...     702\n3  430b63  What is the minimum value of $5x^2+5y^2-8xy$ w...     800\n4  5277ed  There exists a unique increasing geometric seq...     211",
            "text/html": "<div>\n<style scoped>\n    .dataframe tbody tr th:only-of-type {\n        vertical-align: middle;\n    }\n\n    .dataframe tbody tr th {\n        vertical-align: top;\n    }\n\n    .dataframe thead th {\n        text-align: right;\n    }\n</style>\n<table border=\"1\" class=\"dataframe\">\n  <thead>\n    <tr style=\"text-align: right;\">\n      <th></th>\n      <th>id</th>\n      <th>problem</th>\n      <th>answer</th>\n    </tr>\n  </thead>\n  <tbody>\n    <tr>\n      <th>0</th>\n      <td>229ee8</td>\n      <td>Let $k, l &gt; 0$ be parameters. The parabola $y ...</td>\n      <td>52</td>\n    </tr>\n    <tr>\n      <th>1</th>\n      <td>246d26</td>\n      <td>Each of the three-digits numbers $111$ to $999...</td>\n      <td>250</td>\n    </tr>\n    <tr>\n      <th>2</th>\n      <td>2fc4ad</td>\n      <td>Let the `sparkle' operation on positive intege...</td>\n      <td>702</td>\n    </tr>\n    <tr>\n      <th>3</th>\n      <td>430b63</td>\n      <td>What is the minimum value of $5x^2+5y^2-8xy$ w...</td>\n      <td>800</td>\n    </tr>\n    <tr>\n      <th>4</th>\n      <td>5277ed</td>\n      <td>There exists a unique increasing geometric seq...</td>\n      <td>211</td>\n    </tr>\n  </tbody>\n</table>\n</div>"
          },
          "metadata": {}
        }
      ]
    },
    {
      "cell_type": "code",
      "source": [
        "def gen_prompt(problem):\n",
        "\n",
        "    return f\"\"\"\n",
        "Below is an instruction that describes a task. Write a response that appropriately completes the request.\\n\\n\n",
        "### Instruction:\\n{problem}\\n\\n\n",
        "### Response: Let's think step by step. The final response should be a single number in the last line of your response.\n",
        "\"\"\""
      ],
      "metadata": {
        "papermill": {
          "duration": 0.014166,
          "end_time": "2024-04-01T18:56:47.08739",
          "exception": false,
          "start_time": "2024-04-01T18:56:47.073224",
          "status": "completed"
        },
        "tags": [],
        "execution": {
          "iopub.status.busy": "2024-05-19T06:48:52.415641Z",
          "iopub.execute_input": "2024-05-19T06:48:52.416228Z",
          "iopub.status.idle": "2024-05-19T06:48:52.421165Z",
          "shell.execute_reply.started": "2024-05-19T06:48:52.416197Z",
          "shell.execute_reply": "2024-05-19T06:48:52.420247Z"
        },
        "trusted": true,
        "id": "e5cxVXyexfnr"
      },
      "execution_count": null,
      "outputs": []
    },
    {
      "cell_type": "code",
      "source": [
        "import gc\n",
        "device = 'cuda'"
      ],
      "metadata": {
        "papermill": {
          "duration": 0.013552,
          "end_time": "2024-04-01T18:56:47.108113",
          "exception": false,
          "start_time": "2024-04-01T18:56:47.094561",
          "status": "completed"
        },
        "tags": [],
        "execution": {
          "iopub.status.busy": "2024-05-19T06:48:52.422339Z",
          "iopub.execute_input": "2024-05-19T06:48:52.422594Z",
          "iopub.status.idle": "2024-05-19T06:48:52.431689Z",
          "shell.execute_reply.started": "2024-05-19T06:48:52.422572Z",
          "shell.execute_reply": "2024-05-19T06:48:52.430830Z"
        },
        "trusted": true,
        "id": "zbjfQAhtxfnr"
      },
      "execution_count": null,
      "outputs": []
    },
    {
      "cell_type": "code",
      "source": [
        "def naive_parse(answer):\n",
        "    out = []\n",
        "    start = False\n",
        "    end = False\n",
        "    for l in reversed(list(answer)):\n",
        "        if l in '0123456789' and not end:\n",
        "            start = True\n",
        "            out.append(l)\n",
        "        else:\n",
        "            if start:\n",
        "                end = True\n",
        "\n",
        "    out = reversed(out)\n",
        "    return int(''.join(out))"
      ],
      "metadata": {
        "papermill": {
          "duration": 0.015431,
          "end_time": "2024-04-01T18:56:47.130708",
          "exception": false,
          "start_time": "2024-04-01T18:56:47.115277",
          "status": "completed"
        },
        "tags": [],
        "execution": {
          "iopub.status.busy": "2024-05-19T06:48:52.432676Z",
          "iopub.execute_input": "2024-05-19T06:48:52.432947Z",
          "iopub.status.idle": "2024-05-19T06:48:52.441635Z",
          "shell.execute_reply.started": "2024-05-19T06:48:52.432915Z",
          "shell.execute_reply": "2024-05-19T06:48:52.440918Z"
        },
        "trusted": true,
        "id": "qA_IX9Gqxfnr"
      },
      "execution_count": null,
      "outputs": []
    },
    {
      "cell_type": "code",
      "source": [
        "answers = []\n",
        "\n",
        "for i in tqdm(range(len(df))):\n",
        "    try:\n",
        "        id_ = df['id'].loc[i]\n",
        "        problem = df['problem'].loc[i]\n",
        "        query_prompt = gen_prompt(problem)\n",
        "\n",
        "        messages = [\n",
        "            {\n",
        "                \"role\": \"user\",\n",
        "                \"content\": query_prompt\n",
        "            }\n",
        "        ]\n",
        "\n",
        "        inputs = tokenizer.apply_chat_template(messages, return_tensors=\"pt\").to(\"cuda\")\n",
        "\n",
        "        with torch.no_grad():\n",
        "            encoded_output = model.generate(inputs, max_new_tokens=1500, do_sample=False, pad_token_id=tokenizer.eos_token_id)\n",
        "\n",
        "        decoded_output = tokenizer.decode(encoded_output[0], skip_special_tokens=True).replace(query_prompt, '').replace(\"[INST]\", \"\").replace(\"[/INST]\", \"\").strip()\n",
        "\n",
        "        print(i)\n",
        "        print(decoded_output)\n",
        "\n",
        "        answer = decoded_output.split('\\n')[-1]\n",
        "        answer = naive_parse(answer)\n",
        "        print(answer)\n",
        "        answer = int(answer) % 1000\n",
        "        print(answer)\n",
        "        answers.append(answer)\n",
        "        torch.cuda.empty_cache()\n",
        "        gc.collect()\n",
        "\n",
        "    except Exception as e:\n",
        "        print(e)\n",
        "        answers.append(0)"
      ],
      "metadata": {
        "papermill": {
          "duration": 1476.520468,
          "end_time": "2024-04-01T19:21:23.658427",
          "exception": false,
          "start_time": "2024-04-01T18:56:47.137959",
          "status": "completed"
        },
        "tags": [],
        "execution": {
          "iopub.status.busy": "2024-05-19T06:48:52.442890Z",
          "iopub.execute_input": "2024-05-19T06:48:52.443174Z",
          "iopub.status.idle": "2024-05-19T07:14:22.100768Z",
          "shell.execute_reply.started": "2024-05-19T06:48:52.443127Z",
          "shell.execute_reply": "2024-05-19T07:14:22.099847Z"
        },
        "trusted": true,
        "id": "ZXJEhin9xfnr",
        "outputId": "6409a145-177e-4a10-de96-402b043a7c38"
      },
      "execution_count": null,
      "outputs": [
        {
          "name": "stderr",
          "text": "  0%|          | 0/10 [00:00<?, ?it/s]2024-05-19 06:49:00.603208: E external/local_xla/xla/stream_executor/cuda/cuda_dnn.cc:9261] Unable to register cuDNN factory: Attempting to register factory for plugin cuDNN when one has already been registered\n2024-05-19 06:49:00.603336: E external/local_xla/xla/stream_executor/cuda/cuda_fft.cc:607] Unable to register cuFFT factory: Attempting to register factory for plugin cuFFT when one has already been registered\n2024-05-19 06:49:00.765209: E external/local_xla/xla/stream_executor/cuda/cuda_blas.cc:1515] Unable to register cuBLAS factory: Attempting to register factory for plugin cuBLAS when one has already been registered\n",
          "output_type": "stream"
        },
        {
          "name": "stdout",
          "text": "0\nFirst, we need to find the points of intersection $A$ and $B$ between the parabola and the line $y = 4$. This gives us the following system of equations:\n\n$4 = kx^2 - 2kx + l$ and $y = 4 \\Rightarrow 4 = y \\Rightarrow 4 = kx^2 - 2kx + l$\n\nRearranging the second equation, we get $l = 4 - kx^2 + 2kx$. Substituting this into the first equation, we have:\n\n$4 = kx^2 - 2kx + (4 - kx^2 + 2kx)$\n\nSimplifying, we get:\n\n$0 = -kx^2 + 2kx + 4$\n\nDividing through by $-k$, we have:\n\n$x^2 - \\frac{2}{k}x - \\frac{4}{k} = 0$\n\nThis is a quadratic equation. We can solve it using the quadratic formula:\n\n$x = \\frac{-(-2/k) \\pm \\sqrt{(-2/k)^2 - 4(-1)(-4/k)}}{2(-1)}$\n\n$x = \\frac{2/k \\pm \\sqrt{4/k^2 + 16/k}}{2}$\n\nLet $x_1$ and $x_2$ be the two solutions. Then, the points of intersection are $A(x_1, 4)$ and $B(x_2, 4)$. The sum of the squares of the distances from $A$ and $B$ to the origin is:\n\n$d(A, 0)^2 + d(B, 0)^2 = x_1^2 + y_1^2 + x_2^2 + y_2^2 = x_1^2 + 4 + x_2^2 + 4 = x_1^2 + x_2^2 + 8$\n\nSince the points are a distance of 6 apart, we know that:\n\n$(x_1 - x_2)^2 = 6^2 = 36$\n\nExpanding and rearranging, we get:\n\n$x_1^2 - 2x_1x_2 + x_2^2 = 36$\n\nNow, we can use this to simplify the sum of the squares of the distances:\n\n$d(A, 0)^2 + d(B, 0)^2 = x_1^2 + x_2^2 + 8 = (x_1^2 - 2x_1x_2 + x_2^2) + (x_1^2 + x_2^2 + 2x_1x_2) + 8 = 2(x_1^2 + x_2^2 + 2x_1x_2) + 8 = 2((x_1 - x_2)^2 + 2x_1x_2) + 8 = 2(36 + 2x_1x_2) + 8 = 72 + 4x_1x_2$\n\nHowever, we do not have enough information to determine the value of $x_1x_2$. Therefore, we cannot provide a single numerical answer for the sum of the squares of the distances from $A$ and $B$ to the origin.\n2\n2\n",
          "output_type": "stream"
        },
        {
          "name": "stderr",
          "text": " 10%|█         | 1/10 [03:30<31:37, 210.87s/it]",
          "output_type": "stream"
        },
        {
          "name": "stdout",
          "text": "1\nTo solve this problem, let's first notice that the sum of any two (not necessarily different) yellow numbers should be a blue number. This implies that the sum of any two yellow numbers should be unique, otherwise, we can replace one of them with a new blue number.\n\nNow, let's consider the smallest and the largest possible blue numbers: 112 (the smallest even three-digit number) and 999. We can't have any yellow numbers greater than or equal to 112 because they can't form a unique sum with another yellow number without creating a blue number less than 112.\n\nLet's see the largest possible sum of two yellow numbers that is still less than 112:\n99 + 11 = 110\n\nWe can fit 9 nines and 11 ones in the given range (111-999) as yellow numbers:\n99, 99, 99, 99, 99, 99, 99, 99, 11, 11, 11, ..., 11\n\nThe sum of these 12 yellow numbers is:\n9 * 90 + 3 * 11 = 810 + 33 = 843\n\nSince 843 is greater than 112, we can't fit more than 12 yellow numbers. However, we can replace one of the nines with a 112 and have 13 yellow numbers:\n112, 99, 99, 99, 99, 99, 99, 99, 11, 11, 11, 11, 11\n\nThe sum of these 13 yellow numbers is:\n112 + 9 * 90 + 3 * 11 = 112 + 810 + 33 = 955\n\nWe can't fit more than 13 yellow numbers without creating a sum less than 112 or greater than 999.\n\nTherefore, the maximum possible number of yellow numbers is **13**.\n13\n13\n",
          "output_type": "stream"
        },
        {
          "name": "stderr",
          "text": " 20%|██        | 2/10 [05:37<21:31, 161.38s/it]",
          "output_type": "stream"
        },
        {
          "name": "stdout",
          "text": "2\nTo solve this problem, we need to find the special numbers that eventually lead to a number less than 6 through the sparkle operation. The sparkle operation involves calculating the sum of the digits of a number and taking its factorial. We need to find the special numbers such that no matter how many times we perform the sparkle operation, the resulting number will always be less than 6.\n\nWe can start by finding the factorial of numbers up to 10, as any number greater than 10 will eventually result in a number greater than or equal to 10 after the sparkle operation. The factorials of numbers up to 10 are as follows:\n\n1! = 1\n2! = 2\n3! = 6\n4! = 24\n5! = 120\n6! = 720\n7! = 5040\n8! = 40320\n9! = 362880\n10! = 3628800\n\nWe can see that the factorial of any number greater than 3 will result in a number greater than or equal to 6. Therefore, the special numbers can only be composed of the digits 0, 1, 2, and 3.\n\nFurthermore, since the sum of the digits of any number greater than 6 will result in a number greater than 3, the special numbers can only be composed of the digits 0, 1, 2, and 3, and their sum of digits must be less than or equal to 3.\n\nThe possible special numbers are:\n\n0, 1, 2, 3, 10, 11, 12, 13, 20, 21, 22, 23, 30, 31, 32, 33\n\nWe can see that there are 16 special numbers with at most 36 digits.\n36\n36\n",
          "output_type": "stream"
        },
        {
          "name": "stderr",
          "text": " 30%|███       | 3/10 [07:31<16:18, 139.84s/it]",
          "output_type": "stream"
        },
        {
          "name": "stdout",
          "text": "3\nTo solve this problem, we can use the method of Lagrange multipliers. First, let's rewrite the equation $|x-2y| + |y-2x| = 40$ as two equations, one for the case when $x-2y \\geq 0$ and $y-2x \\geq 0$, and another for the case when $x-2y \\leq 0$ and $y-2x \\leq 0$. This gives us:\n\n$x - 2y + y - 2x = 40$ for the first case, which simplifies to $3(x-y) = 40$, or $x-y = 40/3$.\n\nAnd $-x + 2y - y + 2x = 40$ for the second case, which simplifies to $x+y = 40/3$.\n\nNow, we want to find the minimum value of $5x^2 + 5y^2 - 8xy$ subject to these constraints. We introduce a Lagrange multiplier $\\lambda$ and form the Lagrangian:\n\n$L(x,y,\\lambda) = 5x^2 + 5y^2 - 8xy - \\lambda(|x-2y| + |y-2x| - 40/3)$\n\nWe then take the gradient of $L$ with respect to $x, y,$ and $\\lambda$, and set them equal to zero:\n\n$\\nabla L = (10x - 8y - \\lambda \\cdot sign(x-2y), 10y - 8x - \\lambda \\cdot sign(y-2x), |x-2y| + |y-2x| - 40/3) = 0$\n\nwhere $sign$ is the sign function.\n\nSolving these equations is a bit involved, but we can simplify the problem by noticing that the objective function $5x^2 + 5y^2 - 8xy$ is minimized when $x=y$ or $x=-y$. This is because the cross term $-8xy$ is minimized when $x$ and $y$ are either equal or opposite.\n\nWhen $x=y$, the constraint equation becomes $3x = 40/3$, which gives $x = y = 40/9$. Plugging this into the objective function, we get $5(40/9)^2 + 5(40/9)^2 - 8(40/9)(40/9) = 177.67$.\n\nWhen $x=-y$, the constraint equation becomes $x + y = 40/3$, which gives $x = 20/9$ and $y = -20/9$. Plugging this into the objective function, we get $5(20/9)^2 + 5(-20/9)^2 + 8(20/9)(20/9) = 177.67$.\n\nTherefore, the minimum value of $5x^2 + 5y^2 - 8xy$ subject to the given constraint is $177.67$.\n67\n67\n",
          "output_type": "stream"
        },
        {
          "name": "stderr",
          "text": " 40%|████      | 4/10 [10:31<15:33, 155.55s/it]",
          "output_type": "stream"
        },
        {
          "name": "stdout",
          "text": "4\nFirst, we need to understand what a geometric sequence is. It is a sequence of numbers where each term after the first is found by multiplying the previous term by a fixed, non-zero number.\n\nSince it's an increasing geometric sequence of 2-digit positive integers, let's start with the smallest such number, which is 10. \n\nThe next number in the sequence would be 10*r (where r is the common ratio). Since this number must also be a 2-digit positive integer, the smallest possible value for r would be 2/1 = 2 (the smallest prime number that ensures the sequence increases).\n\nSo, the second number is 10*2 = 20.\n\nThe third number is 20*2 = 40, but 40 is not a 2-digit positive integer, so we need to adjust our ratio. The next 2-digit positive integer after 2 is 3, so let's use that as our new ratio.\n\nThe third number is then 20*3 = 60, and the fourth number is 60*3 = 180.\n\nThe fifth number is 180*3 = 540, but 540 is not a 2-digit positive integer, so we made an error in our assumption that 3 would work as a ratio. Let's try the next prime number, 5.\n\nThe third number remains 60, the fourth number is 60*5 = 300, and the fifth number is 300*5 = 1500. This is the smallest possible increasing geometric sequence of 2-digit positive integers with a common ratio of 5.\n\nThe sum of this sequence is 10 + 20 + 60 + 300 + 1500 = 1880.\n1880\n880\n",
          "output_type": "stream"
        },
        {
          "name": "stderr",
          "text": " 50%|█████     | 5/10 [12:21<11:35, 139.14s/it]",
          "output_type": "stream"
        },
        {
          "name": "stdout",
          "text": "5\nTo find the number of positive integers $m$ that result in 4 distinct solutions for the equation $|\\ |x-1|\\ -2|\\ =\\frac{m}{100}$, we first need to analyze the given equation.\n\nThe given equation can be simplified as follows:\n\n1. $| |x-1| -2 |\\ = \\frac{m}{100}$\n2. $|x-1| - 2 = \\pm \\frac{m}{100}$ (since $|y| = y$ if $y \\geq 0$ and $|y| = -y$ if $y < 0$)\n3. $|x-1| = 2 \\pm \\frac{m}{100}$\n\nNow, let's consider the two possible cases for $|x-1|$:\n\nCase 1: $x - 1 \\geq 0 \\Rightarrow x \\geq 1$\n\n* In this case, $|x-1| = x-1$\n* So, $x - 1 = 2 \\pm \\frac{m}{100}$\n* This leads to $x = 3 \\pm \\frac{m}{100}$\n\nCase 2: $x - 1 < 0 \\Rightarrow x < 1$\n\n* In this case, $|x-1| = -(x-1) = 1-x$\n* So, $1-x = 2 \\pm \\frac{m}{100}$\n* This leads to $x = -1 \\pm \\frac{m}{100}$\n\nFor both cases to have solutions, the RHS must be greater than or equal to 1 and less than or equal to 3.\n\n1. If $x = 3 + \\frac{m}{100}$, then $3 + \\frac{m}{100} \\geq 1 \\Rightarrow \\frac{m}{100} \\geq -2 \\Rightarrow m \\geq -200$\n2. If $x = -1 + \\frac{m}{100}$, then $-1 + \\frac{m}{100} \\leq 3 \\Rightarrow \\frac{m}{100} \\leq 4 \\Rightarrow m \\leq 400$\n\nNow, let's find the positive integers $m$ that result in 4 distinct solutions. Since we want 4 distinct solutions, we need to find the values of $m$ that satisfy both conditions above and also make the two other cases (from Case 1 and Case 2) distinct.\n\nThe two other cases are:\n\n1. $x = 3 - \\frac{m}{100}$\n2. $x = 1 - \\frac{m}{100}$\n\nFor these cases to be distinct, we need:\n\n* $3 + \\frac{m}{100} > 3 - \\frac{m}{100} \\Rightarrow \\frac{m}{100} > 0 \\Rightarrow m > 0$\n* $3 - \\frac{m}{100} > 1 - \\frac{m}{100} \\Rightarrow \\frac{m}{100} < 2 \\Rightarrow m < 200$\n\nCombining all the conditions, we find that the positive integers $m$ that result in 4 distinct solutions are:\n\n$m \\in (0, 200) \\cap \\mathbb{Z^+}$\n\nThere are 200 such positive integers.\n200\n200\n",
          "output_type": "stream"
        },
        {
          "name": "stderr",
          "text": " 60%|██████    | 6/10 [15:40<10:38, 159.65s/it]",
          "output_type": "stream"
        },
        {
          "name": "stdout",
          "text": "6\nTo find the probability that the highest roll is 5, we need to consider all possible scenarios where at least one of the dice shows a 5 and none of them show a 6.\n\nFirst, let's calculate the total number of outcomes when rolling four 6-sided dice. This is $6^4 = 1296$.\n\nNow, let's calculate the number of favorable outcomes:\n- One die can show 5: There are 4 dice that can be chosen to show 5, and the remaining 3 dice must show numbers between 1 and 4. The number of ways to do this is $4 \\times 4^3 = 256$.\n- Two dice can show 5: There are $C(4,2) = 6$ ways to choose 2 dice out of 4, and the remaining 2 dice must show numbers between 1 and 4. The number of ways to do this is $6 \\times 4^2 = 96$.\n- Three dice can show 5: There is only $C(4,3) = 4$ ways to choose 3 dice out of 4, and the remaining die must show a number between 1 and 4. The number of ways to do this is $4 \\times 4^1 = 16$.\n\nSo, the total number of favorable outcomes is $256 + 96 + 16 = 368$.\n\nHowever, we also need to exclude cases where a 6 is rolled. For each scenario above, we need to subtract the cases where at least one 6 is rolled:\n- One die showing 5: There are 4 dice that can be chosen to show 5, and the other 3 dice must show numbers between 1 and 4, except for 6. The number of ways to do this is $4 \\times 3^3 = 108$.\n- Two dice showing 5: There are $C(4,2) = 6$ ways to choose 2 dice out of 4, and the other 2 dice must show numbers between 1 and 4, except for 6. The number of ways to do this is $6 \\times 3^2 = 54$.\n- Three dice showing 5: There is only $C(4,3) = 4$ ways to choose 3 dice out of 4, and the remaining die must show a number between 1 and 4, except for 6. The number of ways to do this is $4 \\times 3^1 = 12$.\n\nSo, the total number of favorable outcomes, excluding cases with 6, is $368 - 108 - 54 - 12 = 194$.\n\nNow, let's calculate the probability:\n\n$P(highest roll is 5) = \\frac{194}{1296} = \\frac{97}{648}$\n\nTherefore, $a + b = 97 + 648 = \\boxed{745}$.\n745\n745\n",
          "output_type": "stream"
        },
        {
          "name": "stderr",
          "text": " 70%|███████   | 7/10 [18:34<08:12, 164.21s/it]",
          "output_type": "stream"
        },
        {
          "name": "stdout",
          "text": "7\nTo find the area of the convex polygon, we first need to determine the set of points that satisfy the given equation. The equation equals zero, so we are looking for points where the expression inside the parentheses equals zero. This expression can be broken down into two separate expressions, both of which must equal zero:\n\n1. $(\\left | x+y \\right | - 10)^2 + ( \\left | x-y \\right | - 10)^2 = 0$\n2. $(\\left | x \\right | - 8)^2 + ( \\left | y \\right | - 8)^2 = 0$\n\nLet's analyze each expression separately.\n\nExpression 1:\n$(\\left | x+y \\right | - 10)^2 = 0 \\Rightarrow \\left | x+y \\right | = 10$\nThis expression represents a pair of lines, $x+y=10$ and $x+y=-10$.\n\nExpression 2:\n$(\\left | x \\right | - 8)^2 = 0 \\Rightarrow \\left | x \\right | = 8$\nThis expression represents two lines, $x=8$ and $x=-8$.\n\nNow, let's find the intersection points of these lines:\n\n1. $x+y=10$, $x=8 \\Rightarrow y=10-8=2$\n2. $x+y=10$, $x=-8 \\Rightarrow y=10-(-8)=18$\n3. $x-y=8$, $x=8 \\Rightarrow y=8-8=0$\n4. $x-y=-8$, $x=8 \\Rightarrow y=8-8=0$\n5. $x-y=-8$, $x=-8 \\Rightarrow y=-8-(-8)=0$\n\nThe intersection points are $(8, 2)$, $(-8, 18)$, $(8, 0)$, and $(-8, 0)$.\n\nSince the absolute value expressions represent a square and the given equation represents the intersection of two squares, the figure formed by the intersection points is a convex quadrilateral.\n\nTo find the area of the convex polygon, we can use the formula for the area of a quadrilateral:\n\nArea = $\\frac{1}{2} \\left | x_1 y_2 + x_2 y_3 + x_3 y_4 + x_4 y_1 - x_2 y_1 - x_1 y_3 - x_4 y_2 - x_3 y_4 \\right |$\n\nUsing the intersection points, we get:\n\nArea = $\\frac{1}{2} \\left | 8(0) + (-8)(18) + (-8)(2) + 8(0) - (-8)(0) - 8(2) - (8)(18) - (-8)(0) \\right |$\n\nArea = $\\frac{1}{2} \\left | -144 - 16 - 24 - 144 \\right |$\n\nArea = $\\frac{1}{2} \\left | -328 \\right |$\n\nArea = 164\n\nThe area of the convex polygon enclosed by the given equation is 164 square units.\n164\n164\n",
          "output_type": "stream"
        },
        {
          "name": "stderr",
          "text": " 80%|████████  | 8/10 [21:43<05:44, 172.05s/it]",
          "output_type": "stream"
        },
        {
          "name": "stdout",
          "text": "8\nFirst, let's find the coordinates of points P and Q. Since A is the origin, the coordinates of P are (1/2, 0) and the coordinates of Q are (0, 1/24).\n\nNext, we need to find the equations of the lines DP and BQ. The slope of DP is (0 - 1/2)/(1 - 0) = -1/2, so the equation of DP is y = -1/2(x - 1). The equation of BQ can be found using the fact that it passes through the point (1, 1) and has a slope of (1 - 1/24)/(0 - 1) = -1/23. So the equation of BQ is y = -1/23(x - 1).\n\nNow we can find the points where DP and BQ intersect the horizontal and vertical lines passing through the midpoints of the sides of the square. The midpoints of the sides have coordinates (1/2, 1/2), (1/2, 0), (0, 1/2), and (1, 1/2). Solving the system of equations formed by DP and BQ with the equations of the midpoints, we find that the intersection points are (3/5, 2/5), (2/5, 3/25), (23/50, 27/50), and (27/50, 23/50).\n\nNow we can find the areas of the four regions. The regions are bounded by the lines DP, BQ, and the segments connecting the intersection points. The areas of the regions are given by the following formulas:\n\nRegion 1: (1/2)(2/5) = 1/5\nRegion 2: (1/2)(3/25) = 3/50\nRegion 3: (1/2)(27/50 - 2/5) = 13/100\nRegion 4: (1/2)(23/50 - 3/25) = 17/200\n\nThe ratio of the areas of the largest region to the smallest region is:\n\n(13/100) / (17/200) = (13/100) * (200/17) = 26/17 ≈ 1.53\n\nTherefore, the ratio between the areas of the largest region and the smallest region is 26/17.\n\nResponse: The ratio between the areas of the largest region and the smallest region is 26/17.\n17\n17\n",
          "output_type": "stream"
        },
        {
          "name": "stderr",
          "text": " 90%|█████████ | 9/10 [24:15<02:45, 165.90s/it]",
          "output_type": "stream"
        },
        {
          "name": "stdout",
          "text": "9\nFirst, let's find a general formula for $f(n)$. We know that $f(2n)=2f(n)+1$. By applying this equation recursively, we can find that $f(2^kn)=2^kf(n)+(2^k-1)$.\n\nNow, we want to find $f(n)$ when $n=2^k$, so that $f(n)$ is as large as possible while still being a power of $2$. This happens when $k=\\lfloor \\log_2 n \\rfloor$, so $f(100)=f(2^k)=2^kf(1)+(2^k-1)=100f(1)+99$.\n\nNext, we need to find $f(1)$. Since $f(f(f(n)))=8n-7$, then $f(f(2))=8(2)-7=1$. Thus, $f(1)=1$ because $f$ maps positive integers to positive integers.\n\nNow, we can find $f(100)=100f(1)+99=100(1)+99=199$. The final answer is $f(100)=199$.\n199\n199\n",
          "output_type": "stream"
        },
        {
          "name": "stderr",
          "text": "100%|██████████| 10/10 [25:29<00:00, 152.96s/it]\n",
          "output_type": "stream"
        }
      ]
    },
    {
      "cell_type": "code",
      "source": [
        "df['answer'] = answers"
      ],
      "metadata": {
        "papermill": {
          "duration": 0.017168,
          "end_time": "2024-04-01T19:21:23.685054",
          "exception": false,
          "start_time": "2024-04-01T19:21:23.667886",
          "status": "completed"
        },
        "tags": [],
        "execution": {
          "iopub.status.busy": "2024-05-19T07:14:22.103421Z",
          "iopub.execute_input": "2024-05-19T07:14:22.103956Z",
          "iopub.status.idle": "2024-05-19T07:14:22.108483Z",
          "shell.execute_reply.started": "2024-05-19T07:14:22.103929Z",
          "shell.execute_reply": "2024-05-19T07:14:22.107546Z"
        },
        "trusted": true,
        "id": "VcReeRCBxfns"
      },
      "execution_count": null,
      "outputs": []
    },
    {
      "cell_type": "code",
      "source": [
        "df[['id','answer']].to_csv(\"/submission.csv\", header=True, index=False)"
      ],
      "metadata": {
        "papermill": {
          "duration": 0.039871,
          "end_time": "2024-04-01T19:21:23.734281",
          "exception": false,
          "start_time": "2024-04-01T19:21:23.69441",
          "status": "completed"
        },
        "tags": [],
        "execution": {
          "iopub.status.busy": "2024-05-19T07:19:27.502366Z",
          "iopub.execute_input": "2024-05-19T07:19:27.503333Z",
          "iopub.status.idle": "2024-05-19T07:19:27.513695Z",
          "shell.execute_reply.started": "2024-05-19T07:19:27.503296Z",
          "shell.execute_reply": "2024-05-19T07:19:27.512792Z"
        },
        "trusted": true,
        "id": "EeiOISNIxfns"
      },
      "execution_count": null,
      "outputs": []
    },
    {
      "cell_type": "code",
      "source": [
        "df[['id','answer']].head()"
      ],
      "metadata": {
        "papermill": {
          "duration": 0.022975,
          "end_time": "2024-04-01T19:21:23.766648",
          "exception": false,
          "start_time": "2024-04-01T19:21:23.743673",
          "status": "completed"
        },
        "tags": [],
        "execution": {
          "iopub.status.busy": "2024-05-19T07:19:31.635767Z",
          "iopub.execute_input": "2024-05-19T07:19:31.636171Z",
          "iopub.status.idle": "2024-05-19T07:19:31.647473Z",
          "shell.execute_reply.started": "2024-05-19T07:19:31.636142Z",
          "shell.execute_reply": "2024-05-19T07:19:31.646505Z"
        },
        "trusted": true,
        "id": "hzoUsucixfns",
        "outputId": "9642ca6a-0756-46a0-d280-3120d67f0c13"
      },
      "execution_count": null,
      "outputs": [
        {
          "execution_count": 16,
          "output_type": "execute_result",
          "data": {
            "text/plain": "       id  answer\n0  229ee8       2\n1  246d26      13\n2  2fc4ad      36\n3  430b63      67\n4  5277ed     880",
            "text/html": "<div>\n<style scoped>\n    .dataframe tbody tr th:only-of-type {\n        vertical-align: middle;\n    }\n\n    .dataframe tbody tr th {\n        vertical-align: top;\n    }\n\n    .dataframe thead th {\n        text-align: right;\n    }\n</style>\n<table border=\"1\" class=\"dataframe\">\n  <thead>\n    <tr style=\"text-align: right;\">\n      <th></th>\n      <th>id</th>\n      <th>answer</th>\n    </tr>\n  </thead>\n  <tbody>\n    <tr>\n      <th>0</th>\n      <td>229ee8</td>\n      <td>2</td>\n    </tr>\n    <tr>\n      <th>1</th>\n      <td>246d26</td>\n      <td>13</td>\n    </tr>\n    <tr>\n      <th>2</th>\n      <td>2fc4ad</td>\n      <td>36</td>\n    </tr>\n    <tr>\n      <th>3</th>\n      <td>430b63</td>\n      <td>67</td>\n    </tr>\n    <tr>\n      <th>4</th>\n      <td>5277ed</td>\n      <td>880</td>\n    </tr>\n  </tbody>\n</table>\n</div>"
          },
          "metadata": {}
        }
      ]
    },
    {
      "cell_type": "code",
      "source": [],
      "metadata": {
        "papermill": {
          "duration": 0.009522,
          "end_time": "2024-04-01T19:21:23.823028",
          "exception": false,
          "start_time": "2024-04-01T19:21:23.813506",
          "status": "completed"
        },
        "tags": [],
        "id": "u8TA7fllxfns"
      },
      "execution_count": null,
      "outputs": []
    }
  ]
}